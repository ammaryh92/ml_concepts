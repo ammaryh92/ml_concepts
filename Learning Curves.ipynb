{
 "cells": [
  {
   "cell_type": "code",
   "execution_count": 1,
   "id": "bf66cab2",
   "metadata": {},
   "outputs": [],
   "source": [
    "import numpy as np\n",
    "import matplotlib.pyplot as plt\n",
    "from sklearn.linear_model import LinearRegression\n",
    "from sklearn.preprocessing import PolynomialFeatures\n",
    "from sklearn.metrics import mean_squared_error, make_scorer\n",
    "from sklearn.model_selection import learning_curve\n",
    "from sklearn.pipeline import Pipeline"
   ]
  },
  {
   "cell_type": "code",
   "execution_count": 2,
   "id": "fc2c8767",
   "metadata": {},
   "outputs": [],
   "source": [
    "np.random.seed(42)\n",
    "m = 200\n",
    "X = 6 * np.random.rand(m, 1) - 3\n",
    "y = 0.5 * X**2 + X + 2 + np.random.randn(m,1)"
   ]
  },
  {
   "cell_type": "code",
   "execution_count": 3,
   "id": "aac7fb8a",
   "metadata": {},
   "outputs": [
    {
     "data": {
      "image/png": "[encoded data removed]",
      "text/plain": [
       "<Figure size 432x288 with 1 Axes>"
      ]
     },
     "metadata": {
      "needs_background": "light"
     },
     "output_type": "display_data"
    }
   ],
   "source": [
    "# Quadratic Data\n",
    "plt.plot(X, y, 'b.')\n",
    "plt.xlabel('$X$', fontsize=16)\n",
    "plt.ylabel('$y$', fontsize=16, rotation=0);"
   ]
  },
  {
   "cell_type": "code",
   "execution_count": 4,
   "id": "cbe1db82",
   "metadata": {},
   "outputs": [],
   "source": [
    "permutations = np.random.permutation(X.shape[0])\n",
    "X_shuffled, y_shuffled = X[permutations, :], y[permutations, :]"
   ]
  },
  {
   "cell_type": "markdown",
   "id": "d6155a8a",
   "metadata": {},
   "source": [
    "# Linear Regression"
   ]
  },
  {
   "cell_type": "code",
   "execution_count": 21,
   "id": "cc681597",
   "metadata": {},
   "outputs": [],
   "source": [
    "lin_reg = LinearRegression()"
   ]
  },
  {
   "cell_type": "code",
   "execution_count": 22,
   "id": "7e14ba7f",
   "metadata": {},
   "outputs": [
    {
     "name": "stderr",
     "output_type": "stream",
     "text": [
      "C:\\Users\\ayh17\\anaconda3\\lib\\site-packages\\sklearn\\model_selection\\_validation.py:1647: RuntimeWarning: Removed duplicate entries from 'train_sizes'. Number of ticks will be less than the size of 'train_sizes': 159 instead of 160.\n",
      "  warnings.warn(\n"
     ]
    }
   ],
   "source": [
    "train_sizes, train_scores, test_scores = learning_curve(lin_reg, X_shuffled, y_shuffled,\n",
    "                                                        train_sizes=np.linspace(1/160, 1, 160),\n",
    "                                                       scoring = make_scorer(mean_squared_error))"
   ]
  },
  {
   "cell_type": "code",
   "execution_count": 23,
   "id": "4042fd51",
   "metadata": {},
   "outputs": [],
   "source": [
    "train_scores_mean = np.mean(train_scores, axis=1)\n",
    "test_scores_mean = np.mean(test_scores, axis=1)"
   ]
  },
  {
   "cell_type": "code",
   "execution_count": 24,
   "id": "c42e2869",
   "metadata": {},
   "outputs": [
    {
     "data": {
      "image/png": "[encoded data removed]",
      "text/plain": [
       "<Figure size 432x288 with 1 Axes>"
      ]
     },
     "metadata": {
      "needs_background": "light"
     },
     "output_type": "display_data"
    }
   ],
   "source": [
    "plt.plot(train_sizes, np.sqrt(train_scores_mean), 'r-', label='train', linewidth=2)\n",
    "plt.plot(train_sizes, np.sqrt(test_scores_mean), 'b-', label='val', linewidth=2)\n",
    "plt.axis([0, 160, 0, 3])\n",
    "plt.xlabel('Training Set Size', fontsize=16)\n",
    "plt.ylabel('RMSE', fontsize=16)\n",
    "plt.legend()\n",
    "plt.savefig('images/learning_curves_underfit.jpg');"
   ]
  },
  {
   "cell_type": "code",
   "execution_count": 25,
   "id": "2891ad94",
   "metadata": {},
   "outputs": [
    {
     "name": "stdout",
     "output_type": "stream",
     "text": [
      "Train final Error: 1.6772610882878953\n",
      "Val final Error: 1.6940442352289278\n"
     ]
    }
   ],
   "source": [
    "# Final Scores\n",
    "print(f'Train final Error: {np.sqrt(train_scores_mean[-1])}')\n",
    "print(f'Val final Error: {np.sqrt(test_scores_mean[-1])}')"
   ]
  },
  {
   "cell_type": "markdown",
   "id": "5a03d4eb",
   "metadata": {},
   "source": [
    "The model is clearly **underfitting** the training data."
   ]
  },
  {
   "cell_type": "markdown",
   "id": "c8d0df85",
   "metadata": {},
   "source": [
    "# Polynomial Regression"
   ]
  },
  {
   "cell_type": "markdown",
   "id": "0df06b1e",
   "metadata": {},
   "source": [
    "### 2nd Degree Polynomial"
   ]
  },
  {
   "cell_type": "code",
   "execution_count": 26,
   "id": "caba5ef9",
   "metadata": {},
   "outputs": [],
   "source": [
    "polynomial_regression_2 = Pipeline(steps = [\n",
    "    ('poly_features', PolynomialFeatures(degree=2, include_bias=False)),\n",
    "    ('model', LinearRegression())\n",
    "])"
   ]
  },
  {
   "cell_type": "code",
   "execution_count": 27,
   "id": "17dd8f85",
   "metadata": {},
   "outputs": [
    {
     "name": "stderr",
     "output_type": "stream",
     "text": [
      "C:\\Users\\ayh17\\anaconda3\\lib\\site-packages\\sklearn\\model_selection\\_validation.py:1647: RuntimeWarning: Removed duplicate entries from 'train_sizes'. Number of ticks will be less than the size of 'train_sizes': 159 instead of 160.\n",
      "  warnings.warn(\n"
     ]
    }
   ],
   "source": [
    "train_sizes, train_scores, test_scores = learning_curve(polynomial_regression_2, X_shuffled, y_shuffled,\n",
    "                                                        train_sizes=np.linspace(1/160, 1, 160),\n",
    "                                                       scoring = make_scorer(mean_squared_error))"
   ]
  },
  {
   "cell_type": "code",
   "execution_count": 28,
   "id": "2483ccf1",
   "metadata": {},
   "outputs": [],
   "source": [
    "train_scores_mean = np.mean(train_scores, axis=1)\n",
    "test_scores_mean = np.mean(test_scores, axis=1)"
   ]
  },
  {
   "cell_type": "code",
   "execution_count": 29,
   "id": "f9ac3b2b",
   "metadata": {},
   "outputs": [
    {
     "data": {
      "image/png": "[encoded data removed]",
      "text/plain": [
       "<Figure size 432x288 with 1 Axes>"
      ]
     },
     "metadata": {
      "needs_background": "light"
     },
     "output_type": "display_data"
    }
   ],
   "source": [
    "plt.plot(train_sizes, np.sqrt(train_scores_mean), 'r-', label='train', linewidth=2)\n",
    "plt.plot(train_sizes, np.sqrt(test_scores_mean), 'b-', label='val', linewidth=2)\n",
    "plt.axis([0, 160, 0, 3])\n",
    "plt.xlabel('Training Set Size', fontsize=16)\n",
    "plt.ylabel('RMSE', fontsize=16)\n",
    "plt.legend()\n",
    "plt.savefig('images/learning_curves.jpg');"
   ]
  },
  {
   "cell_type": "code",
   "execution_count": 31,
   "id": "58e22660",
   "metadata": {},
   "outputs": [
    {
     "name": "stdout",
     "output_type": "stream",
     "text": [
      "Train final Error: 0.9629928538602109\n",
      "Val final Error: 0.9735013470617006\n"
     ]
    }
   ],
   "source": [
    "# Final Scores\n",
    "print(f'Train final Error: {np.sqrt(train_scores_mean[-1])}')\n",
    "print(f'Val final Error: {np.sqrt(test_scores_mean[-1])}')"
   ]
  },
  {
   "cell_type": "markdown",
   "id": "78613379",
   "metadata": {},
   "source": [
    "**Good** fit."
   ]
  },
  {
   "cell_type": "markdown",
   "id": "44b8c48a",
   "metadata": {},
   "source": [
    "### 10th Degree Polynomial"
   ]
  },
  {
   "cell_type": "code",
   "execution_count": 32,
   "id": "d540aefa",
   "metadata": {},
   "outputs": [],
   "source": [
    "polynomial_regression_10 = Pipeline(steps = [\n",
    "    ('poly_features', PolynomialFeatures(degree=10, include_bias=False)),\n",
    "    ('model', LinearRegression())\n",
    "])"
   ]
  },
  {
   "cell_type": "code",
   "execution_count": 33,
   "id": "6781e369",
   "metadata": {},
   "outputs": [
    {
     "name": "stderr",
     "output_type": "stream",
     "text": [
      "C:\\Users\\ayh17\\anaconda3\\lib\\site-packages\\sklearn\\model_selection\\_validation.py:1647: RuntimeWarning: Removed duplicate entries from 'train_sizes'. Number of ticks will be less than the size of 'train_sizes': 159 instead of 160.\n",
      "  warnings.warn(\n"
     ]
    }
   ],
   "source": [
    "train_sizes, train_scores, test_scores = learning_curve(polynomial_regression_10, X_shuffled, y_shuffled,\n",
    "                                                        train_sizes=np.linspace(1/160, 1, 160),\n",
    "                                                       scoring = make_scorer(mean_squared_error))"
   ]
  },
  {
   "cell_type": "code",
   "execution_count": 34,
   "id": "3c8e20b5",
   "metadata": {},
   "outputs": [],
   "source": [
    "train_scores_mean = np.mean(train_scores, axis=1)\n",
    "test_scores_mean = np.mean(test_scores, axis=1)"
   ]
  },
  {
   "cell_type": "code",
   "execution_count": 35,
   "id": "e5607647",
   "metadata": {},
   "outputs": [
    {
     "data": {
      "image/png": "[encoded data removed]",
      "text/plain": [
       "<Figure size 432x288 with 1 Axes>"
      ]
     },
     "metadata": {
      "needs_background": "light"
     },
     "output_type": "display_data"
    }
   ],
   "source": [
    "plt.plot(train_sizes, np.sqrt(train_scores_mean), 'r-', label='train', linewidth=2)\n",
    "plt.plot(train_sizes, np.sqrt(test_scores_mean), 'b-', label='val', linewidth=2)\n",
    "plt.axis([0, 160, 0, 3])\n",
    "plt.xlabel('Training Set Size', fontsize=16)\n",
    "plt.ylabel('RMSE', fontsize=16)\n",
    "plt.legend()\n",
    "plt.savefig('images/learning_curves_overfit.jpg');"
   ]
  },
  {
   "cell_type": "code",
   "execution_count": 36,
   "id": "60f6abad",
   "metadata": {},
   "outputs": [
    {
     "name": "stdout",
     "output_type": "stream",
     "text": [
      "Train final Error: 0.9389156816722789\n",
      "Val final Error: 1.007104601581117\n"
     ]
    }
   ],
   "source": [
    "# Final Scores\n",
    "print(f'Train final Error: {np.sqrt(train_scores_mean[-1])}')\n",
    "print(f'Val final Error: {np.sqrt(test_scores_mean[-1])}')"
   ]
  },
  {
   "cell_type": "code",
   "execution_count": null,
   "id": "058f40c7",
   "metadata": {},
   "outputs": [],
   "source": []
  }
 ],
 "metadata": {
  "kernelspec": {
   "display_name": "Python 3 (ipykernel)",
   "language": "python",
   "name": "python3"
  },
  "language_info": {
   "codemirror_mode": {
    "name": "ipython",
    "version": 3
   },
   "file_extension": ".py",
   "mimetype": "text/x-python",
   "name": "python",
   "nbconvert_exporter": "python",
   "pygments_lexer": "ipython3",
   "version": "3.8.10"
  }
 },
 "nbformat": 4,
 "nbformat_minor": 5
}
