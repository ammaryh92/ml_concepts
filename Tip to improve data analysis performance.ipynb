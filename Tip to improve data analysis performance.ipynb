{
 "cells": [
  {
   "cell_type": "code",
   "execution_count": 1,
   "id": "5f30b10d",
   "metadata": {},
   "outputs": [],
   "source": [
    "import pandas as pd\n",
    "import numpy as np"
   ]
  },
  {
   "cell_type": "markdown",
   "id": "6db4aa6b",
   "metadata": {},
   "source": [
    "### 1. Vector Operations > For Loops"
   ]
  },
  {
   "cell_type": "code",
   "execution_count": 2,
   "id": "776dc684",
   "metadata": {},
   "outputs": [],
   "source": [
    "def matrix_mul(m1, m2):\n",
    "    result = []\n",
    "    for i in range(len(m1)):\n",
    "        row = []\n",
    "        for j in range(len(m2[0])):\n",
    "            product = 0\n",
    "            for v in range(len(m1[i])):\n",
    "                product += m1[i][v] * m2[v][j]\n",
    "            row.append(product)\n",
    "        result.append(row)\n",
    "    return np.array(result)"
   ]
  },
  {
   "cell_type": "code",
   "execution_count": 3,
   "id": "1731e208",
   "metadata": {},
   "outputs": [],
   "source": [
    "m1 = np.random.randn(100, 200)\n",
    "m2 = np.random.randn(200, 300)"
   ]
  },
  {
   "cell_type": "code",
   "execution_count": 4,
   "id": "a4fa9158",
   "metadata": {},
   "outputs": [
    {
     "name": "stdout",
     "output_type": "stream",
     "text": [
      "Duration: 2.9443230628967285 seconds\n"
     ]
    }
   ],
   "source": [
    "import time\n",
    "start = time.time()\n",
    "m3 = matrix_mul(m1, m2)\n",
    "end = time.time()\n",
    "print(f'Duration: {end - start} seconds')"
   ]
  },
  {
   "cell_type": "code",
   "execution_count": 5,
   "id": "6b3e7dab",
   "metadata": {},
   "outputs": [],
   "source": [
    "code = '''\n",
    "def matrix_mul(m1, m2):\n",
    "    result = []\n",
    "    for i in range(len(m1)):\n",
    "        row = []\n",
    "        for j in range(len(m2[0])):\n",
    "            product = 0\n",
    "            for v in range(len(m1[i])):\n",
    "                product += m1[i][v] * m2[v][j]\n",
    "            row.append(product)\n",
    "        result.append(row)\n",
    "    return np.array(result)\n",
    "    \n",
    "m1 = np.random.randn(100, 200)\n",
    "m2 = np.random.randn(200, 300)\n",
    "m3 = matrix_mul(m1, m2)\n",
    "'''"
   ]
  },
  {
   "cell_type": "code",
   "execution_count": 6,
   "id": "d2d153e1",
   "metadata": {},
   "outputs": [],
   "source": [
    "import timeit"
   ]
  },
  {
   "cell_type": "code",
   "execution_count": 7,
   "id": "0fc74bae",
   "metadata": {
    "scrolled": true
   },
   "outputs": [
    {
     "data": {
      "text/plain": [
       "3.1048670000000005"
      ]
     },
     "execution_count": 7,
     "metadata": {},
     "output_type": "execute_result"
    }
   ],
   "source": [
    "timeit.timeit(stmt=code, setup='import numpy as np', number =1)"
   ]
  },
  {
   "cell_type": "code",
   "execution_count": 8,
   "id": "3cab36e8",
   "metadata": {},
   "outputs": [],
   "source": [
    "code2 = '''\n",
    "m1 = np.random.randn(100, 200)\n",
    "m2 = np.random.randn(200, 300)\n",
    "m3 = np.dot(m1, m2)\n",
    "'''"
   ]
  },
  {
   "cell_type": "code",
   "execution_count": 9,
   "id": "12fc3121",
   "metadata": {},
   "outputs": [
    {
     "data": {
      "text/plain": [
       "0.00647209999999987"
      ]
     },
     "execution_count": 9,
     "metadata": {},
     "output_type": "execute_result"
    }
   ],
   "source": [
    "timeit.timeit(stmt=code2, setup='import numpy as np', number= 1)"
   ]
  },
  {
   "cell_type": "code",
   "execution_count": 10,
   "id": "300b1fe8",
   "metadata": {},
   "outputs": [
    {
     "name": "stdout",
     "output_type": "stream",
     "text": [
      "Duration: 0.0007224082946777344 seconds\n"
     ]
    }
   ],
   "source": [
    "import time\n",
    "start = time.time()\n",
    "m3 = np.dot(m1, m2)\n",
    "end = time.time()\n",
    "print(f'Duration: {end - start} seconds')"
   ]
  },
  {
   "cell_type": "markdown",
   "id": "acfa663f",
   "metadata": {},
   "source": [
    "### 2. Builtin Methods > Self Implementation"
   ]
  },
  {
   "cell_type": "code",
   "execution_count": 11,
   "id": "3c456ff7",
   "metadata": {},
   "outputs": [],
   "source": [
    "grades = pd.Series(np.random.randint(0, 101, size = 100000))"
   ]
  },
  {
   "cell_type": "code",
   "execution_count": 12,
   "id": "c9acfd3a",
   "metadata": {},
   "outputs": [],
   "source": [
    "def pass_or_fail(val):\n",
    "    if val >= 60:\n",
    "        return 'Pass'\n",
    "    else:\n",
    "        return 'Fail'"
   ]
  },
  {
   "cell_type": "code",
   "execution_count": 13,
   "id": "5861cce1",
   "metadata": {
    "scrolled": true
   },
   "outputs": [
    {
     "data": {
      "text/plain": [
       "0        Fail\n",
       "1        Pass\n",
       "2        Fail\n",
       "3        Pass\n",
       "4        Pass\n",
       "         ... \n",
       "99995    Fail\n",
       "99996    Pass\n",
       "99997    Pass\n",
       "99998    Fail\n",
       "99999    Fail\n",
       "Length: 100000, dtype: object"
      ]
     },
     "execution_count": 13,
     "metadata": {},
     "output_type": "execute_result"
    }
   ],
   "source": [
    "grades.apply(pass_or_fail)"
   ]
  },
  {
   "cell_type": "code",
   "execution_count": 14,
   "id": "53f307c4",
   "metadata": {},
   "outputs": [
    {
     "data": {
      "text/plain": [
       "0        Fail\n",
       "1        Pass\n",
       "2        Fail\n",
       "3        Pass\n",
       "4        Pass\n",
       "         ... \n",
       "99995    Fail\n",
       "99996    Pass\n",
       "99997    Pass\n",
       "99998    Fail\n",
       "99999    Fail\n",
       "Length: 100000, dtype: object"
      ]
     },
     "execution_count": 14,
     "metadata": {},
     "output_type": "execute_result"
    }
   ],
   "source": [
    "grades.where(grades >= 60, 'Fail').where(grades < 60, 'Pass')"
   ]
  },
  {
   "cell_type": "code",
   "execution_count": 15,
   "id": "e66f8cc6",
   "metadata": {},
   "outputs": [
    {
     "name": "stdout",
     "output_type": "stream",
     "text": [
      "11.6 ms ± 667 µs per loop (mean ± std. dev. of 7 runs, 100 loops each)\n"
     ]
    }
   ],
   "source": [
    "%%timeit\n",
    "grades.apply(pass_or_fail)"
   ]
  },
  {
   "cell_type": "code",
   "execution_count": 16,
   "id": "c529b508",
   "metadata": {},
   "outputs": [
    {
     "name": "stdout",
     "output_type": "stream",
     "text": [
      "3.99 ms ± 141 µs per loop (mean ± std. dev. of 7 runs, 100 loops each)\n"
     ]
    }
   ],
   "source": [
    "%%timeit\n",
    "grades.where(grades >= 60, 'Fail').where(grades < 60, 'Pass')"
   ]
  },
  {
   "cell_type": "markdown",
   "id": "b6726953",
   "metadata": {},
   "source": [
    "### 3. Appropriate Data Type"
   ]
  },
  {
   "cell_type": "code",
   "execution_count": 17,
   "id": "ff969213",
   "metadata": {},
   "outputs": [],
   "source": [
    "levels = ['xs', 's', 'm', 'l', 'xl']"
   ]
  },
  {
   "cell_type": "code",
   "execution_count": 18,
   "id": "a12d91e7",
   "metadata": {},
   "outputs": [],
   "source": [
    "ranks = pd.Series(np.random.choice(levels, 10000))"
   ]
  },
  {
   "cell_type": "code",
   "execution_count": 19,
   "id": "fa4233a5",
   "metadata": {},
   "outputs": [],
   "source": [
    "ranks_cat = ranks.astype('category')"
   ]
  },
  {
   "cell_type": "code",
   "execution_count": 20,
   "id": "faac68ca",
   "metadata": {},
   "outputs": [
    {
     "data": {
      "text/plain": [
       "10040"
      ]
     },
     "execution_count": 20,
     "metadata": {},
     "output_type": "execute_result"
    }
   ],
   "source": [
    "ranks_cat.nbytes"
   ]
  },
  {
   "cell_type": "code",
   "execution_count": 21,
   "id": "520e04ea",
   "metadata": {},
   "outputs": [],
   "source": [
    "ranks_ord = ranks_cat.cat.reorder_categories(levels, ordered=True)"
   ]
  },
  {
   "cell_type": "code",
   "execution_count": 22,
   "id": "760d7254",
   "metadata": {},
   "outputs": [
    {
     "data": {
      "text/plain": [
       "1        s\n",
       "3       xs\n",
       "5       xs\n",
       "8        s\n",
       "9       xs\n",
       "        ..\n",
       "9983     s\n",
       "9988    xs\n",
       "9996    xs\n",
       "9997    xs\n",
       "9998    xs\n",
       "Length: 4015, dtype: category\n",
       "Categories (5, object): ['xs' < 's' < 'm' < 'l' < 'xl']"
      ]
     },
     "execution_count": 22,
     "metadata": {},
     "output_type": "execute_result"
    }
   ],
   "source": [
    "ranks_ord[ranks_ord < 'm']"
   ]
  },
  {
   "cell_type": "code",
   "execution_count": 23,
   "id": "a4ed448b",
   "metadata": {},
   "outputs": [
    {
     "data": {
      "text/plain": [
       "400000"
      ]
     },
     "execution_count": 23,
     "metadata": {},
     "output_type": "execute_result"
    }
   ],
   "source": [
    "grades.nbytes"
   ]
  },
  {
   "cell_type": "code",
   "execution_count": 24,
   "id": "41b5a2c2",
   "metadata": {},
   "outputs": [
    {
     "data": {
      "text/plain": [
       "count    100000.000000\n",
       "mean         50.086660\n",
       "std          29.177153\n",
       "min           0.000000\n",
       "25%          25.000000\n",
       "50%          50.000000\n",
       "75%          75.000000\n",
       "max         100.000000\n",
       "dtype: float64"
      ]
     },
     "execution_count": 24,
     "metadata": {},
     "output_type": "execute_result"
    }
   ],
   "source": [
    "grades.describe()"
   ]
  },
  {
   "cell_type": "code",
   "execution_count": 25,
   "id": "80cf1e58",
   "metadata": {},
   "outputs": [
    {
     "data": {
      "text/plain": [
       "iinfo(min=-128, max=127, dtype=int8)"
      ]
     },
     "execution_count": 25,
     "metadata": {},
     "output_type": "execute_result"
    }
   ],
   "source": [
    "np.iinfo('int8')"
   ]
  },
  {
   "cell_type": "code",
   "execution_count": 26,
   "id": "2bbf840e",
   "metadata": {},
   "outputs": [],
   "source": [
    "grades2 = grades.astype('int8')"
   ]
  },
  {
   "cell_type": "code",
   "execution_count": 27,
   "id": "367911b1",
   "metadata": {},
   "outputs": [
    {
     "data": {
      "text/plain": [
       "100000"
      ]
     },
     "execution_count": 27,
     "metadata": {},
     "output_type": "execute_result"
    }
   ],
   "source": [
    "grades2.nbytes"
   ]
  }
 ],
 "metadata": {
  "kernelspec": {
   "display_name": "Python 3 (ipykernel)",
   "language": "python",
   "name": "python3"
  },
  "language_info": {
   "codemirror_mode": {
    "name": "ipython",
    "version": 3
   },
   "file_extension": ".py",
   "mimetype": "text/x-python",
   "name": "python",
   "nbconvert_exporter": "python",
   "pygments_lexer": "ipython3",
   "version": "3.8.10"
  }
 },
 "nbformat": 4,
 "nbformat_minor": 5
}
